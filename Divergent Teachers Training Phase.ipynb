{
 "cells": [
  {
   "cell_type": "code",
   "execution_count": null,
   "metadata": {},
   "outputs": [],
   "source": [
    "from train import train\n",
    "from data import get_dataloader, get_transforms\n",
    "from torchvision.datasets import CIFAR10\n",
    "from network import NetworkBuilder\n",
    "from network import ARCH_NAMES\n",
    "\n",
    "import torch\n",
    "import torch.optim as optim\n",
    "from torch.nn import CrossEntropyLoss\n",
    "\n",
    "## Global args will be moved to argparse ##\n",
    "train_batch_size = 256\n",
    "train_dataloader_num_workers = 2\n",
    "train_epochs = 10\n",
    "device = 'cuda:0' if torch.cuda.is_available() else 'cpu'\n",
    "learning_rate = 1e-3\n",
    "phase = 'train'\n",
    "## End of Global args ##\n",
    "\n",
    "train_dataset = CIFAR10(root='datasets', train=True, transform=get_transforms(), download=True)\n",
    "train_dataloader = get_dataloader(dataset=train_dataset,\n",
    "                                    bs=train_batch_size, \n",
    "                                    num_workers=train_dataloader_num_workers)\n",
    "num_classes = len(train_dataset.classes)\n",
    "optimizer = optim.Adam\n",
    "loss_fn = CrossEntropyLoss()\n",
    "\n",
    "for ARCH in ARCH_NAMES:\n",
    "    network = NetworkBuilder(num_classes=num_classes, arch=ARCH, optimizer=optimizer, loss_fn=loss_fn)\n",
    "    network.train_network(train_epochs=train_epochs, device=device, \n",
    "                            dataloader=train_dataloader, lr=learning_rate)\n",
    "    network.save_network_params(save_path='models/cifar_{}.pth'.format(ARCH))\n",
    "    network.test_network()"
   ]
  }
 ],
 "metadata": {
  "kernelspec": {
   "display_name": "Python 3",
   "language": "python",
   "name": "python3"
  },
  "language_info": {
   "codemirror_mode": {
    "name": "ipython",
    "version": 3
   },
   "file_extension": ".py",
   "mimetype": "text/x-python",
   "name": "python",
   "nbconvert_exporter": "python",
   "pygments_lexer": "ipython3",
   "version": "3.7.6"
  }
 },
 "nbformat": 4,
 "nbformat_minor": 4
}
